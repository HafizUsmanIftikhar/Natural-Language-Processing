{
  "cells": [
    {
      "cell_type": "markdown",
      "metadata": {
        "id": "28PhpFfuq09j"
      },
      "source": [
        "## Muhammad Usman\n",
        "### P19-0096"
      ]
    },
    {
      "cell_type": "code",
      "execution_count": 2,
      "metadata": {
        "id": "2g0MmqBvlKOb"
      },
      "outputs": [],
      "source": [
        "import re\n",
        "from collections import Counter\n",
        "\n",
        "# Load data.txt as corpus\n",
        "with open('/data.txt', 'r') as f:\n",
        "    corpus = f.read().lower()\n",
        "\n",
        "# Create a vocabulary of words from the corpus\n",
        "vocab = re.findall(r'\\b\\w+\\b', corpus)\n",
        "word_counts = Counter(vocab)\n",
        "\n",
        "# Load common misspellings in Roman Urdu from misspellings.txt\n",
        "with open('/misspellings.txt', 'r') as f:\n",
        "    misspellings = f.readlines()\n",
        "misspellings = [line.strip().split(',') for line in misspellings]\n",
        "\n"
      ]
    },
    {
      "cell_type": "code",
      "execution_count": null,
      "metadata": {},
      "outputs": [],
      "source": [
        "# Define insert, delete, substitute and transpose tables using misspellings\n",
        "insert_table = {}\n",
        "delete_table = {}\n",
        "substitute_table = {}\n",
        "transpose_table = {}\n",
        "\n",
        "for misspelling in misspellings:\n",
        "    if len(misspelling[0]) < len(misspelling[1]):\n",
        "        table = insert_table\n",
        "        word = misspelling[1]\n",
        "    elif len(misspelling[0]) > len(misspelling[1]):\n",
        "        table = delete_table\n",
        "        word = misspelling[1]\n",
        "    else:\n",
        "        if misspelling[0] != misspelling[1]:\n",
        "            table = substitute_table\n",
        "            word = misspelling[1]\n",
        "        else:\n",
        "            continue    \n",
        "        \n",
        "        if len(misspelling[0]) < 2:\n",
        "            continue\n",
        "        \n",
        "        for i in range(len(misspelling[0])-1):\n",
        "            transposed_word = misspelling[0][:i] + misspelling[0][i+1] + misspelling[0][i] + misspelling[0][i+2:]\n",
        "            if transposed_word == misspelling[1]:\n",
        "                table = transpose_table\n",
        "                word = misspelling[1]\n",
        "                break\n",
        "    \n",
        "    table[word] = table.get(word, 0) + 1\n"
      ]
    },
    {
      "cell_type": "code",
      "execution_count": 4,
      "metadata": {
        "id": "OoFJFMMjnq8B"
      },
      "outputs": [],
      "source": [
        "# Define a function to calculate P(x|w) using the error model tables\n",
        "def calculate_P_x_given_w(x, w):\n",
        "    # initialize probabilities with 1\n",
        "    P_insert = P_delete = P_substitute = P_transpose = 1\n",
        "\n",
        "    # calculate probabilities for insertions\n",
        "    for i in range(len(x)):\n",
        "        x_insert = x[:i] + ' ' + x[i:]\n",
        "        if x_insert in insert_table and w in insert_table[x_insert]:\n",
        "            P_insert *= insert_table[x_insert][w] / word_counts[x_insert]\n",
        "\n",
        "    # calculate probabilities for deletions\n",
        "    for i in range(len(x)):\n",
        "        x_delete = x[:i] + x[i+1:]\n",
        "        if x_delete in delete_table and w in delete_table[x_delete]:\n",
        "            P_delete *= delete_table[x_delete][w] / word_counts[x_delete]\n",
        "\n",
        "    # calculate probabilities for substitutions\n",
        "    for i in range(len(x)):\n",
        "        for c in 'abcdefghijklmnopqrstuvwxyz':\n",
        "            x_substitute = x[:i] + c + x[i+1:]\n",
        "            if x_substitute in substitute_table and w in substitute_table[x_substitute]:\n",
        "                P_substitute *= substitute_table[x_substitute][w] / word_counts[x_substitute]\n",
        "                \n",
        "    # calculate probabilities for transpositions\n",
        "    for i in range(len(x)-1):\n",
        "        x_transpose = x[:i] + x[i+1] + x[i] + x[i+2:]\n",
        "        if x_transpose in transpose_table and w in transpose_table[x_transpose]:\n",
        "            P_transpose *= transpose_table[x_transpose][w] / word_counts[x_transpose]\n",
        "    P_x_given_w = P_insert * P_delete * P_substitute * P_transpose\n",
        "    return P_x_given_w\n"
      ]
    },
    {
      "cell_type": "code",
      "execution_count": 5,
      "metadata": {
        "id": "MdanCuQklKOc"
      },
      "outputs": [],
      "source": [
        "def get_candidate_words(x, V):\n",
        "    candidate_words = set()\n",
        "    \n",
        "    # insertions\n",
        "    for i in range(len(x) + 1):\n",
        "        for c in 'abcdefghijklmnopqrstuvwxyz':\n",
        "            candidate = x[:i] + c + x[i:]\n",
        "            if candidate in V:\n",
        "                candidate_words.add(candidate)\n",
        "    \n",
        "    # deletions\n",
        "    for i in range(len(x)):\n",
        "        candidate = x[:i] + x[i+1:]\n",
        "        if candidate in V:\n",
        "            candidate_words.add(candidate)\n",
        "    \n",
        "    # substitutions\n",
        "    for i in range(len(x)):\n",
        "        for c in 'abcdefghijklmnopqrstuvwxyz':\n",
        "            candidate = x[:i] + c + x[i+1:]\n",
        "            if candidate != x and candidate in V:\n",
        "                candidate_words.add(candidate)\n",
        "    \n",
        "    # transpositions\n",
        "    for i in range(len(x) - 1):\n",
        "        candidate = x[:i] + x[i+1] + x[i] + x[i+2:]\n",
        "        if candidate in V:\n",
        "            candidate_words.add(candidate)\n",
        "    \n",
        "    return candidate_words\n"
      ]
    },
    {
      "cell_type": "code",
      "execution_count": 7,
      "metadata": {
        "id": "ueNlxjaWlKOc"
      },
      "outputs": [],
      "source": [
        "def calculate_P_w(w, corpus):\n",
        "    # create a vocabulary of words from the corpus\n",
        "    vocab = re.findall(r'\\b\\w+\\b', corpus.lower())\n",
        "    # count the number of occurrences of each word in the vocabulary\n",
        "    word_counts = Counter(vocab)\n",
        "    # calculate the total number of words in the corpus\n",
        "    total_words = sum(word_counts.values()) \n",
        "    # calculate the probability of the word w\n",
        "    P_w = word_counts[w] / total_words\n",
        "    return P_w"
      ]
    },
    {
      "cell_type": "code",
      "execution_count": 12,
      "metadata": {
        "colab": {
          "base_uri": "https://localhost:8080/"
        },
        "id": "oUObRNBVox0P",
        "outputId": "447c8ee0-a460-41f7-f686-f932cc9b67fc"
      },
      "outputs": [
        {
          "name": "stdout",
          "output_type": "stream",
          "text": [
            "Corrected word for 'suay' is 'say'\n"
          ]
        }
      ],
      "source": [
        "x = 'suay'\n",
        "candidate_words = get_candidate_words(x, corpus)\n",
        "\n",
        "if not candidate_words:\n",
        "    # handle the case where there are no candidate words\n",
        "    print(\"No candidate words found for '{}'\".format(x))\n",
        "else:\n",
        "    P_x_given_w = {}\n",
        "    for w in candidate_words:\n",
        "        P_x_given_w[w] = calculate_P_x_given_w(x, w) # function to calculate P(x|w)\n",
        "\n",
        "    # calculate P(w) for each candidate word w\n",
        "    P_w = {}\n",
        "    for w in candidate_words:\n",
        "        P_w[w] = calculate_P_w(w,corpus) # function to calculate P(w)\n",
        "\n",
        "    # calculate the score for each candidate word w\n",
        "    scores = {}\n",
        "    for w in candidate_words:\n",
        "        scores[w] = P_x_given_w[w] * P_w[w]\n",
        "\n",
        "    # select the candidate word with the highest score\n",
        "    selected_word = max(scores, key=scores.get)\n",
        "    print(\"Corrected word for '{}' is '{}'\".format(x, selected_word))\n"
      ]
    },
    {
      "cell_type": "code",
      "execution_count": null,
      "metadata": {
        "id": "yBvhNfq0lKOd"
      },
      "outputs": [],
      "source": []
    }
  ],
  "metadata": {
    "accelerator": "GPU",
    "colab": {
      "provenance": []
    },
    "gpuClass": "standard",
    "kernelspec": {
      "display_name": "base",
      "language": "python",
      "name": "python3"
    },
    "language_info": {
      "codemirror_mode": {
        "name": "ipython",
        "version": 3
      },
      "file_extension": ".py",
      "mimetype": "text/x-python",
      "name": "python",
      "nbconvert_exporter": "python",
      "pygments_lexer": "ipython3",
      "version": "3.7.6"
    },
    "orig_nbformat": 4,
    "vscode": {
      "interpreter": {
        "hash": "c13d8d059dcca8489522997718827b664bf201240abf231db25e96430f2dc8a6"
      }
    }
  },
  "nbformat": 4,
  "nbformat_minor": 0
}
